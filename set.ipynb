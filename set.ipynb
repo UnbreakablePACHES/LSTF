{
 "cells": [
  {
   "cell_type": "code",
   "execution_count": 1,
   "metadata": {},
   "outputs": [
    {
     "name": "stdout",
     "output_type": "stream",
     "text": [
      "Package             Version\n",
      "------------------- ------------\n",
      "appdirs             1.4.4\n",
      "asttokens           2.4.1\n",
      "beautifulsoup4      4.12.2\n",
      "Brotli              1.0.9\n",
      "certifi             2023.11.17\n",
      "charset-normalizer  3.3.2\n",
      "colorama            0.4.6\n",
      "comm                0.2.0\n",
      "contourpy           1.2.0\n",
      "cycler              0.12.1\n",
      "debugpy             1.8.0\n",
      "decorator           5.1.1\n",
      "et-xmlfile          1.1.0\n",
      "exceptiongroup      1.2.0\n",
      "executing           2.0.1\n",
      "fonttools           4.46.0\n",
      "frozendict          2.3.10\n",
      "html5lib            1.1\n",
      "idna                3.6\n",
      "importlib-metadata  7.0.0\n",
      "importlib-resources 6.1.1\n",
      "ipykernel           6.27.1\n",
      "ipython             8.18.1\n",
      "jedi                0.19.1\n",
      "Jinja2              3.1.2\n",
      "jupyter_client      8.6.0\n",
      "jupyter_core        5.5.0\n",
      "kiwisolver          1.4.5\n",
      "lxml                4.9.3\n",
      "MarkupSafe          2.1.3\n",
      "matplotlib          3.8.2\n",
      "matplotlib-inline   0.1.6\n",
      "multitasking        0.0.11\n",
      "nest-asyncio        1.5.8\n",
      "numpy               1.22.4\n",
      "openpyxl            3.1.2\n",
      "packaging           23.2\n",
      "pandas              2.1.4\n",
      "parso               0.8.3\n",
      "peewee              3.17.0\n",
      "Pillow              9.4.0\n",
      "pip                 23.3.1\n",
      "platformdirs        4.1.0\n",
      "prettytable         3.9.0\n",
      "prompt-toolkit      3.0.41\n",
      "psutil              5.9.6\n",
      "pure-eval           0.2.2\n",
      "pyecharts           2.0.4\n",
      "Pygments            2.17.2\n",
      "pyparsing           3.1.1\n",
      "PySocks             1.7.1\n",
      "python-dateutil     2.8.2\n",
      "pytz                2023.3.post1\n",
      "pywin32             306\n",
      "pyzmq               25.1.2\n",
      "requests            2.31.0\n",
      "setuptools          68.0.0\n",
      "simplejson          3.19.2\n",
      "six                 1.16.0\n",
      "soupsieve           2.5\n",
      "stack-data          0.6.3\n",
      "torch               1.8.2\n",
      "torchaudio          0.8.2\n",
      "torchvision         0.15.2a0\n",
      "tornado             6.4\n",
      "traitlets           5.14.0\n",
      "typing_extensions   4.8.0\n",
      "tzdata              2023.3\n",
      "urllib3             2.1.0\n",
      "wcwidth             0.2.12\n",
      "webencodings        0.5.1\n",
      "wheel               0.41.2\n",
      "win-inet-pton       1.1.0\n",
      "xlrd                2.0.1\n",
      "yfinance            0.2.33\n",
      "zipp                3.17.0\n"
     ]
    }
   ],
   "source": [
    "!pip list"
   ]
  },
  {
   "cell_type": "code",
   "execution_count": 2,
   "metadata": {},
   "outputs": [
    {
     "name": "stdout",
     "output_type": "stream",
     "text": [
      "使用的设备是：cuda\n"
     ]
    }
   ],
   "source": [
    "import torch\n",
    "\n",
    "device = torch.device('cuda' if torch.cuda.is_available() else 'cpu')\n",
    "print(f\"使用的设备是：{device}\")"
   ]
  },
  {
   "cell_type": "code",
   "execution_count": null,
   "metadata": {},
   "outputs": [],
   "source": []
  }
 ],
 "metadata": {
  "kernelspec": {
   "display_name": "DLinear",
   "language": "python",
   "name": "python3"
  },
  "language_info": {
   "codemirror_mode": {
    "name": "ipython",
    "version": 3
   },
   "file_extension": ".py",
   "mimetype": "text/x-python",
   "name": "python",
   "nbconvert_exporter": "python",
   "pygments_lexer": "ipython3",
   "version": "3.9.18"
  }
 },
 "nbformat": 4,
 "nbformat_minor": 2
}
